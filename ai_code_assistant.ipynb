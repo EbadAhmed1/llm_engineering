{
 "cells": [
  {
   "cell_type": "code",
   "execution_count": 4,
   "id": "dcb308b5",
   "metadata": {},
   "outputs": [],
   "source": [
    "from dotenv import load_dotenv\n",
    "from IPython.display import Markdown, display, update_display\n",
    "from openai import OpenAI\n",
    "import ollama"
   ]
  },
  {
   "cell_type": "code",
   "execution_count": 2,
   "id": "8c41b947",
   "metadata": {},
   "outputs": [],
   "source": [
    "MODEL_GPT = 'gpt-4o-mini'\n",
    "MODEL_LLAMA = 'llama3.2'"
   ]
  },
  {
   "cell_type": "code",
   "execution_count": 3,
   "id": "a448ce6b",
   "metadata": {},
   "outputs": [],
   "source": [
    "load_dotenv()\n",
    "client = OpenAI(api_key=os.getenv('OPENAI_API_KEY'))"
   ]
  },
  {
   "cell_type": "code",
   "execution_count": 15,
   "id": "cf98feb8",
   "metadata": {},
   "outputs": [],
   "source": [
    "question = \"\"\"\n",
    "What's the most unconventional Python trick or library you've discovered that transformed how you approach coding challenges?\n",
    "\"\"\""
   ]
  },
  {
   "cell_type": "code",
   "execution_count": 16,
   "id": "06538a7f",
   "metadata": {},
   "outputs": [],
   "source": [
    "system_prompt = \"You are a helpful technical tutor who answers questions about python code, software engineering, data science and LLMs\"\n",
    "user_prompt = \"Please give a detailed explanation to the following question: \" + question"
   ]
  },
  {
   "cell_type": "code",
   "execution_count": 17,
   "id": "2db5999d",
   "metadata": {},
   "outputs": [],
   "source": [
    "messages = [\n",
    "    {\"role\": \"system\", \"content\": system_prompt},\n",
    "    {\"role\": \"user\", \"content\": user_prompt}\n",
    "]"
   ]
  },
  {
   "cell_type": "code",
   "execution_count": 18,
   "id": "b211a225",
   "metadata": {},
   "outputs": [
    {
     "data": {
      "text/markdown": [
       "One unconventional Python trick that has transformed many developers' approach to coding challenges is the use of \"decorators,\" along with the \"functools\" library and the combination of \"context managers\" for resource management. Although decorators are well-known among experienced Python developers, their full potential is often underutilized by many. Here’s a detailed explanation of what decorators are, how they work, and how they can be applied to transform your coding practices.\n",
       "\n",
       "### Understanding Decorators\n",
       "\n",
       "#### What are Decorators?\n",
       "\n",
       "In Python, a decorator is a special type of function that can modify the behavior of another function or class. This is done by wrapping the function with extra functionality. Decorators are often used for:\n",
       "\n",
       "- Logging\n",
       "- Timing function execution\n",
       "- Rate limiting\n",
       "- Access control\n",
       "- Caching results\n",
       "\n",
       "They enhance functions without modifying their code directly.\n",
       "\n",
       "#### How Do Decorators Work?\n",
       "\n",
       "A basic decorator can be defined as follows:\n",
       "\n",
       "python\n",
       "def my_decorator(func):\n",
       "    def wrapper(*args, **kwargs):\n",
       "        print(\"Something is happening before the function is called.\")\n",
       "        result = func(*args, **kwargs)\n",
       "        print(\"Something is happening after the function is called.\")\n",
       "        return result\n",
       "    return wrapper\n",
       "\n",
       "\n",
       "To use the decorator, you can simply apply it using the `@` symbol:\n",
       "\n",
       "python\n",
       "@my_decorator\n",
       "def say_hello(name):\n",
       "    print(f\"Hello, {name}!\")\n",
       "\n",
       "say_hello(\"Alice\")\n",
       "\n",
       "\n",
       "When `say_hello(\"Alice\")` is called, the output will be:\n",
       "\n",
       "\n",
       "Something is happening before the function is called.\n",
       "Hello, Alice!\n",
       "Something is happening after the function is called.\n",
       "\n",
       "\n",
       "### Transforming Your Approach with Decorators\n",
       "\n",
       "1. **Facilitating Code Reusability**: Instead of repeating functionality like logging or error handling in multiple functions, you can define a decorator once and apply it to any function that needs that functionality.\n",
       "\n",
       "2. **Reducing Boilerplate Code**: By extracting repetitive logic into decorators, you can keep your codebase clean and more readable.\n",
       "\n",
       "3. **Improving Functionality without Changing Core Logic**: If you need to modify the way functions behave (e.g., caching results), decorators allow you to do so transparently without altering the actual business logic of your functions.\n",
       "\n",
       "### Advanced Decorators\n",
       "\n",
       "Combining decorators with other Python features can lead to even more powerful patterns:\n",
       "\n",
       "#### Using `functools.wraps`\n",
       "\n",
       "When creating decorators, you can use `functools.wraps` to preserve the original function’s metadata (like docstrings and name):\n",
       "\n",
       "python\n",
       "from functools import wraps\n",
       "\n",
       "def my_decorator(func):\n",
       "    @wraps(func)\n",
       "    def wrapper(*args, **kwargs):\n",
       "        print(\"Before the function call\")\n",
       "        return func(*args, **kwargs)\n",
       "    return wrapper\n",
       "\n",
       "\n",
       "#### Chaining Decorators\n",
       "\n",
       "You can also chain decorators to combine behaviors:\n",
       "\n",
       "python\n",
       "@decorator_one\n",
       "@decorator_two\n",
       "def my_function():\n",
       "    pass\n",
       "\n",
       "\n",
       "### Context Managers\n",
       "\n",
       "Another unconventional yet powerful feature in Python is the use of **context managers**, which are typically implemented using the `with` statement. They are perfect for resource management, such as file handling or locking.\n",
       "\n",
       "#### Example of a Context Manager\n",
       "\n",
       "python\n",
       "from contextlib import contextmanager\n",
       "\n",
       "@contextmanager\n",
       "def open_file(filename):\n",
       "    f = open(filename, 'r')\n",
       "    try:\n",
       "        yield f\n",
       "    finally:\n",
       "        f.close()\n",
       "\n",
       "with open_file('example.txt') as f:\n",
       "    contents = f.read()\n",
       "\n",
       "\n",
       "In this example, the context manager ensures the file is properly closed after its contents are read, encapsulating the open-and-close logic in a reusable way.\n",
       "\n",
       "### Conclusion\n",
       "\n",
       "Combining decorators and context managers can significantly enhance your coding practices, leading to code that is:\n",
       "\n",
       "- More modular\n",
       "- Easy to test\n",
       "- Easily understandable and maintainable\n",
       "\n",
       "These features exemplify Python's flexibility and power, allowing you to tackle complex coding challenges in a succinct and elegant way. As you become more familiar with these patterns, you'll find that they open up new ways to think about structuring your code and solving problems effectively. Embracing these unconventional tricks can greatly influence your productivity and the quality of your software."
      ],
      "text/plain": [
       "<IPython.core.display.Markdown object>"
      ]
     },
     "metadata": {},
     "output_type": "display_data"
    }
   ],
   "source": [
    "stream = client.chat.completions.create(model=MODEL_GPT, messages=messages, stream=True)\n",
    "    \n",
    "response = \"\"\n",
    "display_handle = display(Markdown(\"\"), display_id=True)\n",
    "for chunk in stream:\n",
    "    if chunk.choices[0].delta.content is not None:\n",
    "        response += chunk.choices[0].delta.content\n",
    "        cleaned_response = response.replace(\"```\",\"\").replace(\"markdown\", \"\")\n",
    "        update_display(Markdown(cleaned_response), display_id=display_handle.display_id)"
   ]
  }
 ],
 "metadata": {
  "kernelspec": {
   "display_name": "llms",
   "language": "python",
   "name": "python3"
  },
  "language_info": {
   "codemirror_mode": {
    "name": "ipython",
    "version": 3
   },
   "file_extension": ".py",
   "mimetype": "text/x-python",
   "name": "python",
   "nbconvert_exporter": "python",
   "pygments_lexer": "ipython3",
   "version": "3.11.13"
  }
 },
 "nbformat": 4,
 "nbformat_minor": 5
}
